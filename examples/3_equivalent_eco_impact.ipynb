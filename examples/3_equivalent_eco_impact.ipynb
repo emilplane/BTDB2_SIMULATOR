{
 "cells": [
  {
   "attachments": {},
   "cell_type": "markdown",
   "metadata": {},
   "source": [
    "# Equivalent Eco Impact\n",
    "\n",
    "In a typical battles 2 game with farms, it may be possible that one player has better farm income but worse eco, and it's not obvious how to judge which player has a better income situation. One potential remedy to this is to compute something called the *equivalent eco impact* of farms, which is defined to be, given some time span, the amount of eco that would earn exactly as much as the farms over that time span. In this .ipynb file, we introduce the function and some basic uses."
   ]
  },
  {
   "cell_type": "code",
   "execution_count": 1,
   "metadata": {},
   "outputs": [],
   "source": [
    "import sys\n",
    "sys.path.append('../')\n",
    "\n",
    "import b2sim as b2"
   ]
  },
  {
   "cell_type": "code",
   "execution_count": 6,
   "metadata": {},
   "outputs": [
    {
     "data": {
      "text/plain": [
       "339.82300884955754"
      ]
     },
     "execution_count": 6,
     "metadata": {},
     "output_type": "execute_result"
    }
   ],
   "source": [
    "rounds = b2.Rounds(0.25)\n",
    "\n",
    "farms = {\n",
    "    0: b2.initFarm(rounds.getTimeFromRound(7), upgrades = [3,2,0]),\n",
    "    1: b2.initFarm(rounds.getTimeFromRound(13.9), upgrades = [3,2,0])\n",
    "}\n",
    "\n",
    "b2.equivalentEcoImpact((14,19), rounds, farms = farms)"
   ]
  }
 ],
 "metadata": {
  "kernelspec": {
   "display_name": "base",
   "language": "python",
   "name": "python3"
  },
  "language_info": {
   "codemirror_mode": {
    "name": "ipython",
    "version": 3
   },
   "file_extension": ".py",
   "mimetype": "text/x-python",
   "name": "python",
   "nbconvert_exporter": "python",
   "pygments_lexer": "ipython3",
   "version": "3.9.12"
  },
  "orig_nbformat": 4
 },
 "nbformat": 4,
 "nbformat_minor": 2
}
