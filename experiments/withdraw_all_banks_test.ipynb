{
 "cells": [
  {
   "cell_type": "code",
   "execution_count": 1,
   "metadata": {},
   "outputs": [],
   "source": [
    "import b2sim.engine as b2\n",
    "import b2sim.analysis as dd"
   ]
  },
  {
   "cell_type": "code",
   "execution_count": 2,
   "metadata": {},
   "outputs": [
    {
     "data": {
      "text/plain": [
       "1070.0"
      ]
     },
     "execution_count": 2,
     "metadata": {},
     "output_type": "execute_result"
    }
   ],
   "source": [
    "rounds = b2.Rounds(0.1)\n",
    "\n",
    "farms = [\n",
    "    b2.initFarm(rounds.getTimeFromRound(13.99), upgrades = [2,3,0])\n",
    "]\n",
    "\n",
    "buy_queue = [\n",
    "    [b2.withdrawAllBanks(min_buy_time=rounds.getTimeFromRound(15))]\n",
    "]\n",
    "\n",
    "initial_state_game = {\n",
    "    'Cash': 0,\n",
    "    'Eco': 0,\n",
    "    'Eco Send': b2.ecoSend(send_name='Zero'),\n",
    "    'Buy Queue': buy_queue,\n",
    "    'Rounds': rounds,\n",
    "    'Game Round': 14,\n",
    "    'Farms': farms\n",
    "}\n",
    "\n",
    "game_state = b2.GameState(initial_state_game)\n",
    "# game_state.fastForward(target_round=15)\n",
    "# dd.viewHistory(game_state)\n",
    "\n",
    "dd.farmIncome(game_state)"
   ]
  }
 ],
 "metadata": {
  "kernelspec": {
   "display_name": "Python 3",
   "language": "python",
   "name": "python3"
  },
  "language_info": {
   "codemirror_mode": {
    "name": "ipython",
    "version": 3
   },
   "file_extension": ".py",
   "mimetype": "text/x-python",
   "name": "python",
   "nbconvert_exporter": "python",
   "pygments_lexer": "ipython3",
   "version": "3.12.1"
  }
 },
 "nbformat": 4,
 "nbformat_minor": 2
}
