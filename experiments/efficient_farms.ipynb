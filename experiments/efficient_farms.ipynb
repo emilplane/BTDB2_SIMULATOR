{
 "cells": [
  {
   "cell_type": "code",
   "execution_count": 7,
   "metadata": {},
   "outputs": [],
   "source": [
    "import b2sim.engine as b2\n",
    "import matplotlib.pyplot as plt"
   ]
  },
  {
   "cell_type": "code",
   "execution_count": 2,
   "metadata": {},
   "outputs": [
    {
     "data": {
      "text/plain": [
       "{(0, 0, 0): 1000,\n",
       " (1, 0, 0): 1550,\n",
       " (2, 0, 0): 2100,\n",
       " (3, 0, 0): 4850,\n",
       " (4, 0, 0): 20850,\n",
       " (5, 0, 0): 86850,\n",
       " (0, 1, 0): 1200,\n",
       " (0, 2, 0): 1900,\n",
       " (0, 3, 0): 6500,\n",
       " (0, 4, 0): 14500,\n",
       " (0, 5, 0): 59500,\n",
       " (0, 0, 1): 1250,\n",
       " (0, 0, 2): 1450,\n",
       " (0, 0, 3): 4250,\n",
       " (0, 0, 4): 17250,\n",
       " (0, 0, 5): 63250,\n",
       " (1, 1, 0): 1750,\n",
       " (2, 1, 0): 2300,\n",
       " (3, 1, 0): 5050,\n",
       " (4, 1, 0): 21050,\n",
       " (5, 1, 0): 87050,\n",
       " (1, 2, 0): 2450,\n",
       " (2, 2, 0): 3000,\n",
       " (3, 2, 0): 5750,\n",
       " (4, 2, 0): 21750,\n",
       " (5, 2, 0): 87750,\n",
       " (1, 0, 1): 1800,\n",
       " (2, 0, 1): 2350,\n",
       " (3, 0, 1): 5100,\n",
       " (4, 0, 1): 21100,\n",
       " (5, 0, 1): 87100,\n",
       " (1, 0, 2): 2000,\n",
       " (2, 0, 2): 2550,\n",
       " (3, 0, 2): 5300,\n",
       " (4, 0, 2): 21300,\n",
       " (5, 0, 2): 87300,\n",
       " (1, 3, 0): 7050,\n",
       " (1, 4, 0): 15050,\n",
       " (1, 5, 0): 60050,\n",
       " (2, 3, 0): 7600,\n",
       " (2, 4, 0): 15600,\n",
       " (2, 5, 0): 60600,\n",
       " (0, 1, 1): 1450,\n",
       " (0, 2, 1): 2150,\n",
       " (0, 3, 1): 6750,\n",
       " (0, 4, 1): 14750,\n",
       " (0, 5, 1): 59750,\n",
       " (0, 1, 2): 1650,\n",
       " (0, 2, 2): 2350,\n",
       " (0, 3, 2): 6950,\n",
       " (0, 4, 2): 14950,\n",
       " (0, 5, 2): 59950,\n",
       " (1, 0, 3): 4800,\n",
       " (1, 0, 4): 17800,\n",
       " (1, 0, 5): 63800,\n",
       " (2, 0, 3): 5350,\n",
       " (2, 0, 4): 18350,\n",
       " (2, 0, 5): 64350,\n",
       " (0, 1, 3): 4450,\n",
       " (0, 1, 4): 17450,\n",
       " (0, 1, 5): 63450,\n",
       " (0, 2, 3): 5150,\n",
       " (0, 2, 4): 18150,\n",
       " (0, 2, 5): 64150}"
      ]
     },
     "execution_count": 2,
     "metadata": {},
     "output_type": "execute_result"
    }
   ],
   "source": [
    "b2.farm_total_cost_values\n",
    "b2.farm_payout_values"
   ]
  },
  {
   "cell_type": "code",
   "execution_count": 23,
   "metadata": {},
   "outputs": [
    {
     "data": {
      "text/plain": [
       "[((0, 0, 0), 1000, 120),\n",
       " ((1, 0, 0), 1550, 200),\n",
       " ((2, 0, 0), 2100, 280),\n",
       " ((2, 2, 0), 3000, 350),\n",
       " ((0, 0, 3), 4250, 560),\n",
       " ((1, 0, 3), 4800, 640),\n",
       " ((0, 2, 3), 5150, 700),\n",
       " ((2, 0, 3), 5350, 720),\n",
       " ((3, 2, 0), 5750, 800),\n",
       " ((0, 0, 4), 17250, 2240),\n",
       " ((1, 0, 4), 17800, 2560),\n",
       " ((0, 2, 4), 18150, 2800),\n",
       " ((2, 0, 4), 18350, 2880),\n",
       " ((4, 0, 0), 20850, 3000),\n",
       " ((4, 2, 0), 21750, 3750),\n",
       " ((0, 0, 5), 63250, 12240),\n",
       " ((1, 0, 5), 63800, 12560),\n",
       " ((0, 2, 5), 64150, 12800),\n",
       " ((2, 0, 5), 64350, 12880),\n",
       " ((5, 0, 0), 86850, 14000),\n",
       " ((5, 2, 0), 87750, 17500)]"
      ]
     },
     "execution_count": 23,
     "metadata": {},
     "output_type": "execute_result"
    }
   ],
   "source": [
    "farm_info = []\n",
    "for key in b2.farm_total_cost_values.keys():\n",
    "    if key[1] < 3:\n",
    "        ppr = b2.farm_payout_values[key][0]*b2.farm_payout_values[key][1]\n",
    "        if key[2] == 5:\n",
    "            ppr += 10000\n",
    "        farm_info.append((key,b2.farm_total_cost_values[key],ppr))\n",
    "farm_info.sort(key=lambda x: x[1])\n",
    "\n",
    "i = 0\n",
    "payout_to_beat = 0\n",
    "while i < len(farm_info):\n",
    "    if farm_info[i][2] <= payout_to_beat:\n",
    "        farm_info.pop(i)\n",
    "    else:\n",
    "        payout_to_beat = farm_info[i][2]\n",
    "        i += 1\n",
    "\n",
    "farm_info \n"
   ]
  },
  {
   "cell_type": "code",
   "execution_count": 24,
   "metadata": {},
   "outputs": [
    {
     "data": {
      "text/plain": [
       "{(0, 0, 0): (40, 3),\n",
       " (1, 0, 0): (40, 5),\n",
       " (2, 0, 0): (40, 7),\n",
       " (3, 0, 0): (40, 16),\n",
       " (4, 0, 0): (600, 5),\n",
       " (5, 0, 0): (2800, 5),\n",
       " (0, 1, 0): (40, 3),\n",
       " (0, 2, 0): (50, 3),\n",
       " (0, 3, 0): (50, 3),\n",
       " (0, 4, 0): (50, 3),\n",
       " (0, 5, 0): (50, 3),\n",
       " (0, 0, 1): (40, 3),\n",
       " (0, 0, 2): (40, 3),\n",
       " (0, 0, 3): (40, 14),\n",
       " (0, 0, 4): (160, 14),\n",
       " (0, 0, 5): (160, 14),\n",
       " (1, 1, 0): (40, 5),\n",
       " (1, 2, 0): (50, 5),\n",
       " (1, 3, 0): (50, 5),\n",
       " (1, 4, 0): (50, 5),\n",
       " (1, 5, 0): (50, 5),\n",
       " (2, 1, 0): (40, 7),\n",
       " (2, 2, 0): (50, 7),\n",
       " (2, 3, 0): (50, 7),\n",
       " (2, 4, 0): (50, 7),\n",
       " (2, 5, 0): (50, 7),\n",
       " (1, 0, 1): (40, 5),\n",
       " (1, 0, 2): (40, 5),\n",
       " (1, 0, 3): (40, 16),\n",
       " (1, 0, 4): (160, 16),\n",
       " (1, 0, 5): (160, 16),\n",
       " (2, 0, 1): (40, 7),\n",
       " (2, 0, 2): (40, 7),\n",
       " (2, 0, 3): (40, 18),\n",
       " (2, 0, 4): (160, 18),\n",
       " (2, 0, 5): (160, 18),\n",
       " (3, 1, 0): (40, 16),\n",
       " (4, 1, 0): (600, 5),\n",
       " (5, 1, 0): (2800, 5),\n",
       " (3, 2, 0): (50, 16),\n",
       " (4, 2, 0): (750, 5),\n",
       " (5, 2, 0): (3500, 5),\n",
       " (0, 1, 1): (40, 3),\n",
       " (0, 1, 2): (40, 3),\n",
       " (0, 1, 3): (40, 14),\n",
       " (0, 1, 4): (160, 14),\n",
       " (0, 1, 5): (160, 14),\n",
       " (0, 2, 1): (50, 3),\n",
       " (0, 2, 2): (50, 3),\n",
       " (0, 2, 3): (50, 14),\n",
       " (0, 2, 4): (200, 14),\n",
       " (0, 2, 5): (200, 14),\n",
       " (3, 0, 1): (40, 16),\n",
       " (4, 0, 1): (600, 5),\n",
       " (5, 0, 1): (2800, 5),\n",
       " (3, 0, 2): (40, 16),\n",
       " (4, 0, 2): (600, 5),\n",
       " (5, 0, 2): (2800, 5),\n",
       " (0, 3, 1): (50, 3),\n",
       " (0, 4, 1): (50, 3),\n",
       " (0, 5, 1): (50, 3),\n",
       " (0, 3, 2): (50, 3),\n",
       " (0, 4, 2): (50, 3),\n",
       " (0, 5, 2): (50, 3)}"
      ]
     },
     "execution_count": 24,
     "metadata": {},
     "output_type": "execute_result"
    }
   ],
   "source": [
    "b2.farm_payout_values"
   ]
  },
  {
   "cell_type": "code",
   "execution_count": 6,
   "metadata": {},
   "outputs": [
    {
     "data": {
      "text/plain": [
       "{(0, 0, 0): 0.12,\n",
       " (1, 0, 0): 0.12903225806451613,\n",
       " (2, 0, 0): 0.13333333333333333,\n",
       " (3, 0, 0): 0.13195876288659794,\n",
       " (4, 0, 0): 0.14388489208633093,\n",
       " (5, 0, 0): 0.16119746689694875,\n",
       " (0, 1, 0): 0.1,\n",
       " (0, 2, 0): 0.07894736842105263,\n",
       " (0, 0, 1): 0.096,\n",
       " (0, 0, 2): 0.08275862068965517,\n",
       " (0, 0, 3): 0.13176470588235295,\n",
       " (0, 0, 4): 0.12985507246376812,\n",
       " (0, 0, 5): 0.1935177865612648,\n",
       " (1, 1, 0): 0.11428571428571428,\n",
       " (2, 1, 0): 0.12173913043478261,\n",
       " (3, 1, 0): 0.12673267326732673,\n",
       " (4, 1, 0): 0.14251781472684086,\n",
       " (5, 1, 0): 0.16082711085582999,\n",
       " (1, 2, 0): 0.10204081632653061,\n",
       " (2, 2, 0): 0.11666666666666667,\n",
       " (3, 2, 0): 0.1391304347826087,\n",
       " (4, 2, 0): 0.1724137931034483,\n",
       " (5, 2, 0): 0.19943019943019943,\n",
       " (1, 0, 1): 0.1111111111111111,\n",
       " (2, 0, 1): 0.11914893617021277,\n",
       " (3, 0, 1): 0.12549019607843137,\n",
       " (4, 0, 1): 0.14218009478672985,\n",
       " (5, 0, 1): 0.16073478760045926,\n",
       " (1, 0, 2): 0.1,\n",
       " (2, 0, 2): 0.10980392156862745,\n",
       " (3, 0, 2): 0.12075471698113208,\n",
       " (4, 0, 2): 0.14084507042253522,\n",
       " (5, 0, 2): 0.16036655211912945,\n",
       " (0, 1, 1): 0.08275862068965517,\n",
       " (0, 2, 1): 0.06976744186046512,\n",
       " (0, 1, 2): 0.07272727272727272,\n",
       " (0, 2, 2): 0.06382978723404255,\n",
       " (1, 0, 3): 0.13333333333333333,\n",
       " (1, 0, 4): 0.14382022471910114,\n",
       " (1, 0, 5): 0.19686520376175548,\n",
       " (2, 0, 3): 0.13457943925233645,\n",
       " (2, 0, 4): 0.1569482288828338,\n",
       " (2, 0, 5): 0.20015540015540015,\n",
       " (0, 1, 3): 0.1258426966292135,\n",
       " (0, 1, 4): 0.12836676217765042,\n",
       " (0, 1, 5): 0.19290780141843972,\n",
       " (0, 2, 3): 0.13592233009708737,\n",
       " (0, 2, 4): 0.15426997245179064,\n",
       " (0, 2, 5): 0.1995323460639127}"
      ]
     },
     "execution_count": 6,
     "metadata": {},
     "output_type": "execute_result"
    }
   ],
   "source": [
    "# Determine the most cost efficient farms:\n",
    "farm_efficiencies = {}\n",
    "for key in b2.farm_total_cost_values.keys():\n",
    "    \n",
    "    # For now, I don't want to consider banks\n",
    "    if key[1] < 3:\n",
    "        ppr = (b2.farm_payout_values[key][0]*b2.farm_payout_values[key][1])\n",
    "        if key[2] == 5:\n",
    "            ppr += 10000\n",
    "        farm_efficiencies[key] = ppr/b2.farm_total_cost_values[key]\n",
    "farm_efficiencies"
   ]
  },
  {
   "cell_type": "code",
   "execution_count": 10,
   "metadata": {},
   "outputs": [
    {
     "data": {
      "text/plain": [
       "<matplotlib.collections.PathCollection at 0x203d5a2cf20>"
      ]
     },
     "execution_count": 10,
     "metadata": {},
     "output_type": "execute_result"
    },
    {
     "data": {
      "image/png": "[encoded data removed]",
      "text/plain": [
       "<Figure size 640x480 with 1 Axes>"
      ]
     },
     "metadata": {},
     "output_type": "display_data"
    }
   ],
   "source": [
    "farm_costs = []\n",
    "farm_revenues = []\n",
    "for key in b2.farm_total_cost_values.keys():\n",
    "    # For now, I don't want to consider banks\n",
    "    if key[1] < 3:\n",
    "        ppr = (b2.farm_payout_values[key][0]*b2.farm_payout_values[key][1])\n",
    "        if key[2] == 5:\n",
    "            ppr += 10000\n",
    "        farm_costs.append(b2.farm_total_cost_values[key])\n",
    "        farm_revenues.append(ppr)\n",
    "\n",
    "plt.scatter(farm_costs, farm_revenues)"
   ]
  },
  {
   "cell_type": "code",
   "execution_count": 13,
   "metadata": {},
   "outputs": [],
   "source": [
    "farm_tuples = [(farm_costs[i], farm_revenues[i]) for i in range(len(farm_costs))]"
   ]
  },
  {
   "cell_type": "code",
   "execution_count": 15,
   "metadata": {},
   "outputs": [],
   "source": [
    "farm_tuples.sort(key=lambda x:x[0])"
   ]
  },
  {
   "cell_type": "code",
   "execution_count": null,
   "metadata": {},
   "outputs": [],
   "source": []
  }
 ],
 "metadata": {
  "kernelspec": {
   "display_name": "Python 3",
   "language": "python",
   "name": "python3"
  },
  "language_info": {
   "codemirror_mode": {
    "name": "ipython",
    "version": 3
   },
   "file_extension": ".py",
   "mimetype": "text/x-python",
   "name": "python",
   "nbconvert_exporter": "python",
   "pygments_lexer": "ipython3",
   "version": "3.12.1"
  }
 },
 "nbformat": 4,
 "nbformat_minor": 2
}
